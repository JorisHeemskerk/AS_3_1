{
 "cells": [
  {
   "cell_type": "code",
   "execution_count": 1,
   "metadata": {},
   "outputs": [],
   "source": [
    "from agent import Agent\n",
    "from doubleAgent import DoubleAgent\n",
    "from memory import Memory\n",
    "from qNetwork import QNetwork\n",
    "\n",
    "import os\n",
    "import torch\n",
    "import math\n",
    "import Target_Terminator as gym\n",
    "from torch import nn"
   ]
  },
  {
   "cell_type": "code",
   "execution_count": 2,
   "metadata": {},
   "outputs": [],
   "source": [
    "DOUBLE_AGENT = True\n",
    "\n",
    "DEVICE = \"cpu\"\n",
    "RENDER_MODE = \"\"\n",
    "\n",
    "# Env data\n",
    "N_ACTIONS = 5\n",
    "\n",
    "# Agent data\n",
    "START_EPSILON = 1\n",
    "DECAY = 0.9996\n",
    "FINAL_EPSILON = 0.01\n",
    "\n",
    "# Memory data\n",
    "MEMORY_SIZE = 128_000\n",
    "\n",
    "# Training settings\n",
    "NUMBER_OF_EPISODES = 10\n",
    "NUMBER_OF_EPISODES_TO_AVERAGE = 100\n",
    "THRESHOLD_STOP_CONDITION = 30_000\n",
    "DISCOUNT_GAMMA = 0.99\n",
    "MEMORY_BATCH_SIZE_PER_TRAINING_STEP = 128\n",
    "STEP_LIMIT_PER_RUN = 2_000\n",
    "TAU = 0.1\n",
    "LOSS_FUNCTION = nn.MSELoss()\n",
    "OPTIMIZER = torch.optim.Adam\n",
    "NN_SEED = 42"
   ]
  },
  {
   "cell_type": "code",
   "execution_count": 3,
   "metadata": {},
   "outputs": [],
   "source": [
    "def train(agent, render_mode: str=\"\"):\n",
    "    env = gym.make(render_mode)\n",
    "    agent.train(\n",
    "        environment=env,\n",
    "        n_episodes=NUMBER_OF_EPISODES,\n",
    "        n_episodes_to_average=NUMBER_OF_EPISODES_TO_AVERAGE,\n",
    "        threshold_stop_condition=THRESHOLD_STOP_CONDITION,\n",
    "        gamma=DISCOUNT_GAMMA,\n",
    "        memory_batch_size=MEMORY_BATCH_SIZE_PER_TRAINING_STEP,\n",
    "        steps_limit=STEP_LIMIT_PER_RUN,\n",
    "        loss_fn=LOSS_FUNCTION,\n",
    "        seed=NN_SEED,\n",
    "    )\n",
    "    agent._network.save(f\"../saved_models/after_{NUMBER_OF_EPISODES}-eps_{MEMORY_BATCH_SIZE_PER_TRAINING_STEP}-Mbsz_{DECAY}-dec{'_DQ' if DOUBLE_AGENT else '_Q'}\")\n",
    "    env.close(\n",
    "        save_json=True, \n",
    "        save_figs=True, \n",
    "        figs_stride=math.ceil(NUMBER_OF_EPISODES / 100)\n",
    "    )\n",
    "    env.print_profiling()"
   ]
  },
  {
   "cell_type": "code",
   "execution_count": 4,
   "metadata": {},
   "outputs": [
    {
     "name": "stdout",
     "output_type": "stream",
     "text": [
      "Using \u001b[32mcpu\u001b[0m device\n",
      "\n",
      "Using \u001b[32mcpu\u001b[0m device\n",
      "\n",
      "Using \u001b[32mcpu\u001b[0m device\n",
      "\n"
     ]
    },
    {
     "data": {
      "image/png": "[encoded data removed]",
      "text/plain": [
       "<Figure size 1000x500 with 2 Axes>"
      ]
     },
     "metadata": {},
     "output_type": "display_data"
    },
    {
     "name": "stderr",
     "output_type": "stream",
     "text": [
      "100%|██████████| 10/10 [00:16<00:00,  1.70s/it, \u001b[31mlast 100 eps R avg=\u001b[1;31m-1027637\u001b[0;37m, \u001b[31mR=\u001b[1;31m-1016703\u001b[0;37m, \u001b[0;36mε=\u001b[1;36m0.04\u001b[0;37m, \u001b[0;35mmem sz=\u001b[1;35m|█                   | 8044/128000\u001b[0;37m]\n"
     ]
    },
    {
     "name": "stdout",
     "output_type": "stream",
     "text": [
      "BaseEnv profiling:\n",
      "Function Name                  Total Calls     Time (s)       Avg Time per Call (s)   \n",
      "=====================================================================================\n",
      "__init__                       1               0.0127         0.0127                  \n",
      "_calculate_observation         8043            0.1055         0.0000                  \n",
      "step                           8043            0.4422         0.0001                  \n",
      "reset                          10              0.0005         0.0000                  \n",
      "close                          1               1.6252         1.6252                  \n"
     ]
    }
   ],
   "source": [
    "memory = Memory(max_size=MEMORY_SIZE)\n",
    "agent = Agent(\n",
    "    network=QNetwork(DEVICE), \n",
    "    memory=memory, \n",
    "    optimizer=OPTIMIZER, \n",
    "    epsilon=START_EPSILON, \n",
    "    decay=DECAY, \n",
    "    n_actions=N_ACTIONS\n",
    ")\n",
    "\n",
    "if DOUBLE_AGENT:\n",
    "    agent = DoubleAgent(\n",
    "        network=QNetwork(DEVICE), \n",
    "        target_network=QNetwork(DEVICE), \n",
    "        memory=memory, \n",
    "        optimizer=OPTIMIZER, \n",
    "        epsilon=START_EPSILON, \n",
    "        decay=DECAY, \n",
    "        n_actions=N_ACTIONS,\n",
    "        tau=TAU\n",
    "    )\n",
    "\n",
    "if os.path.exists(f\"../saved_models/after_{NUMBER_OF_EPISODES}-eps_{MEMORY_BATCH_SIZE_PER_TRAINING_STEP}-Mbsz_{DECAY}-dec{'_DQ' if DOUBLE_AGENT else '_Q'}\"):\n",
    "    output = input(\"You seem to have already trained this model before, want to train it again?\\n\\t[y]/n?\")\n",
    "    if output in [\"yes\", \"Yes\", 'y', 'Y', '']:\n",
    "        train(agent, RENDER_MODE)\n",
    "    else:\n",
    "        exit()\n",
    "else:\n",
    "    train(agent, RENDER_MODE)"
   ]
  },
  {
   "cell_type": "code",
   "execution_count": 5,
   "metadata": {},
   "outputs": [
    {
     "name": "stdout",
     "output_type": "stream",
     "text": [
      "Using \u001b[32mcpu\u001b[0m device\n",
      "\n"
     ]
    }
   ],
   "source": [
    "post_network = QNetwork(DEVICE)\n",
    "post_network.load(f\"../saved_models/after_{NUMBER_OF_EPISODES}-eps_{MEMORY_BATCH_SIZE_PER_TRAINING_STEP}-Mbsz_{DECAY}-dec{'_DQ' if DOUBLE_AGENT else '_Q'}\")\n",
    "\n",
    "post_memory = Memory(max_size=MEMORY_SIZE)\n",
    "\n",
    "post_agent = Agent(\n",
    "    network=post_network, \n",
    "    memory=post_memory, \n",
    "    optimizer=OPTIMIZER, \n",
    "    epsilon=FINAL_EPSILON, \n",
    "    decay=DECAY,\n",
    "    n_actions=N_ACTIONS\n",
    ")"
   ]
  },
  {
   "cell_type": "code",
   "execution_count": 6,
   "metadata": {},
   "outputs": [
    {
     "name": "stdout",
     "output_type": "stream",
     "text": [
      "-1006725.0605382941\n"
     ]
    }
   ],
   "source": [
    "env = gym.make(render_mode=\"human\")\n",
    "print(post_agent.run(env, steps_limit=2000))\n",
    "env.close()"
   ]
  },
  {
   "cell_type": "code",
   "execution_count": null,
   "metadata": {},
   "outputs": [],
   "source": []
  }
 ],
 "metadata": {
  "kernelspec": {
   "display_name": "three_eleven",
   "language": "python",
   "name": "python3"
  },
  "language_info": {
   "codemirror_mode": {
    "name": "ipython",
    "version": 3
   },
   "file_extension": ".py",
   "mimetype": "text/x-python",
   "name": "python",
   "nbconvert_exporter": "python",
   "pygments_lexer": "ipython3",
   "version": "3.11.9"
  }
 },
 "nbformat": 4,
 "nbformat_minor": 2
}
