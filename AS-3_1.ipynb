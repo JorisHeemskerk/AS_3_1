{
 "cells": [
  {
   "cell_type": "code",
   "execution_count": null,
   "metadata": {},
   "outputs": [],
   "source": [
    "from agent import Agent\n",
    "from doubleAgent import DoubleAgent\n",
    "from memory import Memory\n",
    "from qNetwork import QNetwork\n",
    "\n",
    "import os\n",
    "import torch\n",
    "import gymnasium as gym\n",
    "from torch import nn"
   ]
  },
  {
   "cell_type": "code",
   "execution_count": null,
   "metadata": {},
   "outputs": [],
   "source": [
    "DOUBLE_AGENT = False\n",
    "\n",
    "# Env data\n",
    "N_ACTIONS = 4\n",
    "\n",
    "# Agent data\n",
    "START_EPSILON = 1\n",
    "DECAY = 0.9996\n",
    "FINAL_EPSILON = 0.01\n",
    "\n",
    "# Memory data\n",
    "MEMORY_SIZE = 32_000\n",
    "\n",
    "# Training settings\n",
    "NUMBER_OF_EPISODES = 600\n",
    "NUMBER_OF_EPISODES_TO_AVERAGE = 100\n",
    "THRESHOLD_STOP_CONDITION = 200\n",
    "DISCOUNT_GAMMA = 0.99\n",
    "MEMORY_BATCH_SIZE_PER_TRAINING_STEP = 64\n",
    "STEP_LIMIT_PER_RUN = 2_000\n",
    "TAU = 0.1\n",
    "LOSS_FUNCTION = nn.MSELoss()\n",
    "OPTIMIZER = torch.optim.Adam\n",
    "NN_SEED = 42"
   ]
  },
  {
   "cell_type": "code",
   "execution_count": null,
   "metadata": {},
   "outputs": [],
   "source": [
    "def train(agent):\n",
    "    env = gym.make(\"LunarLander-v2\")\n",
    "    agent.train(\n",
    "        environment=env,\n",
    "        n_episodes=NUMBER_OF_EPISODES,\n",
    "        n_episodes_to_average=NUMBER_OF_EPISODES_TO_AVERAGE,\n",
    "        threshold_stop_condition=THRESHOLD_STOP_CONDITION,\n",
    "        gamma=DISCOUNT_GAMMA,\n",
    "        memory_batch_size=MEMORY_BATCH_SIZE_PER_TRAINING_STEP,\n",
    "        steps_limit=STEP_LIMIT_PER_RUN,\n",
    "        loss_fn=LOSS_FUNCTION,\n",
    "        seed=NN_SEED,\n",
    "    )\n",
    "    agent._network.save(f\"saved_models/after_{NUMBER_OF_EPISODES}-eps_{MEMORY_BATCH_SIZE_PER_TRAINING_STEP}-Mbsz_{DECAY}-dec{'_DQ' if DOUBLE_AGENT else '_Q'}\")\n",
    "    env.close()"
   ]
  },
  {
   "cell_type": "code",
   "execution_count": null,
   "metadata": {},
   "outputs": [],
   "source": [
    "memory = Memory(max_size=MEMORY_SIZE)\n",
    "agent = Agent(\n",
    "    network=QNetwork(\"cpu\"), \n",
    "    memory=memory, \n",
    "    optimizer=OPTIMIZER, \n",
    "    epsilon=START_EPSILON, \n",
    "    decay=DECAY, \n",
    "    n_actions=N_ACTIONS\n",
    ")\n",
    "\n",
    "if DOUBLE_AGENT:\n",
    "    agent = DoubleAgent(\n",
    "        network=QNetwork(\"cpu\"), \n",
    "        target_network=QNetwork(\"cpu\"), \n",
    "        memory=memory, \n",
    "        optimizer=OPTIMIZER, \n",
    "        epsilon=START_EPSILON, \n",
    "        decay=DECAY, \n",
    "        n_actions=N_ACTIONS,\n",
    "        tau=TAU\n",
    "    )\n",
    "\n",
    "if os.path.exists(f\"saved_models/after_{NUMBER_OF_EPISODES}-eps_{MEMORY_BATCH_SIZE_PER_TRAINING_STEP}-Mbsz_{DECAY}-dec{'_DQ' if DOUBLE_AGENT else '_Q'}\"):\n",
    "    output = input(\"You seem to have already trained this model before, want to train it again?\\n\\t[y]/n?\")\n",
    "    if output in [\"yes\", \"Yes\", 'y', 'Y', '']:\n",
    "        train(agent)\n",
    "    else:\n",
    "        exit()\n",
    "else:\n",
    "    train(agent)"
   ]
  },
  {
   "cell_type": "code",
   "execution_count": null,
   "metadata": {},
   "outputs": [],
   "source": [
    "post_network = QNetwork(\"cpu\")\n",
    "post_network.load(f\"saved_models/after_{NUMBER_OF_EPISODES}-eps_{MEMORY_BATCH_SIZE_PER_TRAINING_STEP}-Mbsz_{DECAY}-dec{'_DQ' if DOUBLE_AGENT else '_Q'}\")\n",
    "\n",
    "post_memory = Memory(max_size=MEMORY_SIZE)\n",
    "\n",
    "post_agent = Agent(\n",
    "    network=post_network, \n",
    "    memory=post_memory, \n",
    "    optimizer=OPTIMIZER, \n",
    "    epsilon=FINAL_EPSILON, \n",
    "    decay=DECAY,\n",
    "    n_actions=N_ACTIONS\n",
    ")"
   ]
  },
  {
   "cell_type": "code",
   "execution_count": null,
   "metadata": {},
   "outputs": [],
   "source": [
    "\n",
    "env = gym.make(\"LunarLander-v2\", render_mode=\"human\")\n",
    "print(post_agent.run(env))\n",
    "env.close()"
   ]
  },
  {
   "cell_type": "code",
   "execution_count": null,
   "metadata": {},
   "outputs": [],
   "source": []
  }
 ],
 "metadata": {
  "kernelspec": {
   "display_name": "three_eleven",
   "language": "python",
   "name": "python3"
  },
  "language_info": {
   "codemirror_mode": {
    "name": "ipython",
    "version": 3
   },
   "file_extension": ".py",
   "mimetype": "text/x-python",
   "name": "python",
   "nbconvert_exporter": "python",
   "pygments_lexer": "ipython3",
   "version": "3.11.9"
  }
 },
 "nbformat": 4,
 "nbformat_minor": 2
}
