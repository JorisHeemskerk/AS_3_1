{
 "cells": [
  {
   "cell_type": "code",
   "execution_count": 1,
   "metadata": {},
   "outputs": [],
   "source": [
    "from agent import Agent\n",
    "from policy import Policy\n",
    "from action import Action\n",
    "from state import State\n",
    "from memory import Memory\n",
    "from qNetwork import QNetwork\n",
    "\n",
    "import os\n",
    "import torch\n",
    "import gymnasium as gym\n",
    "from torch import nn"
   ]
  },
  {
   "cell_type": "code",
   "execution_count": 2,
   "metadata": {},
   "outputs": [],
   "source": [
    "# Policy data\n",
    "START_EPSILON = 1\n",
    "DECAY = 0.996\n",
    "FINAL_EPSILON = 0.01\n",
    "\n",
    "# Memory data\n",
    "MEMORY_SIZE = 30_000\n",
    "\n",
    "# Training settings\n",
    "NUMBER_OF_EPISODES = 3_00\n",
    "DISCOUNT_GAMMA = 0.99\n",
    "MEMORY_BATCH_SIZE_PER_TRAINING_STEP = 128\n",
    "NEURAL_NETWORK_BATCH_SIZE = 4\n",
    "STEP_LIMIT_PER_RUN = 2_000\n",
    "LOSS_FUNCTION = nn.MSELoss()\n",
    "OPTIMIZER = torch.optim.Adam\n",
    "NN_SEED = 42"
   ]
  },
  {
   "cell_type": "code",
   "execution_count": 3,
   "metadata": {},
   "outputs": [],
   "source": [
    "def train(agent):\n",
    "    env = gym.make(\"LunarLander-v2\")\n",
    "    agent.train(\n",
    "        environment=env,\n",
    "        n_episodes=NUMBER_OF_EPISODES,\n",
    "        gamma=DISCOUNT_GAMMA,\n",
    "        memory_batch_size=MEMORY_BATCH_SIZE_PER_TRAINING_STEP,\n",
    "        batch_size=NEURAL_NETWORK_BATCH_SIZE,\n",
    "        steps_limit=STEP_LIMIT_PER_RUN,\n",
    "        loss_fn=LOSS_FUNCTION,\n",
    "        optimizer=OPTIMIZER,\n",
    "        seed=NN_SEED,\n",
    "        )\n",
    "    agent.policy.save(f\"saved_models/after_{NUMBER_OF_EPISODES}-eps_{MEMORY_BATCH_SIZE_PER_TRAINING_STEP}-Mbsz_{NEURAL_NETWORK_BATCH_SIZE}-bsz\")\n",
    "    env.close()"
   ]
  },
  {
   "cell_type": "code",
   "execution_count": 4,
   "metadata": {},
   "outputs": [
    {
     "name": "stdout",
     "output_type": "stream",
     "text": [
      "Using \u001b[32mcpu\u001b[0m device\n",
      "\n"
     ]
    },
    {
     "name": "stderr",
     "output_type": "stream",
     "text": [
      "iteration :  11%|█         | 32/300 [03:28<28:05,  6.29s/it]"
     ]
    }
   ],
   "source": [
    "policy = Policy(network=QNetwork(), epsilon=START_EPSILON, decay=DECAY)\n",
    "\n",
    "memory = Memory(max_size=MEMORY_SIZE)\n",
    "\n",
    "agent = Agent(policy=policy, memory=memory)\n",
    "\n",
    "if os.path.exists(f\"saved_models/after_{NUMBER_OF_EPISODES}-eps_{MEMORY_BATCH_SIZE_PER_TRAINING_STEP}-Mbsz_{NEURAL_NETWORK_BATCH_SIZE}-bsz\"):\n",
    "    output = input(\"You seem to have already trained this model before, want to train it again?\\n\\t[y]/n?\")\n",
    "    if output in [\"yes\", \"Yes\", 'y', 'Y', '']:\n",
    "        train(agent)\n",
    "    else:\n",
    "        exit()\n",
    "else:\n",
    "    train(agent)\n",
    "\n",
    "print(f\"Done training. Final epsilon = {agent.policy.epsilon}\")\n",
    "agent.plot()"
   ]
  },
  {
   "cell_type": "code",
   "execution_count": null,
   "metadata": {},
   "outputs": [],
   "source": [
    "post_policy = Policy(network=QNetwork(), epsilon=FINAL_EPSILON, decay=DECAY)\n",
    "post_policy.load(f\"saved_models/after_{NUMBER_OF_EPISODES}-eps_{MEMORY_BATCH_SIZE_PER_TRAINING_STEP}-Mbsz_{NEURAL_NETWORK_BATCH_SIZE}-bsz\")\n",
    "\n",
    "post_memory = Memory(max_size=MEMORY_SIZE)\n",
    "post_agent = Agent(policy=post_policy, memory=post_memory)"
   ]
  },
  {
   "cell_type": "code",
   "execution_count": null,
   "metadata": {},
   "outputs": [],
   "source": [
    "env = gym.make(\"LunarLander-v2\", render_mode=\"human\")\n",
    "post_agent.run(env)\n",
    "env.close()"
   ]
  }
 ],
 "metadata": {
  "kernelspec": {
   "display_name": "three_eleven",
   "language": "python",
   "name": "python3"
  },
  "language_info": {
   "codemirror_mode": {
    "name": "ipython",
    "version": 3
   },
   "file_extension": ".py",
   "mimetype": "text/x-python",
   "name": "python",
   "nbconvert_exporter": "python",
   "pygments_lexer": "ipython3",
   "version": "3.11.9"
  }
 },
 "nbformat": 4,
 "nbformat_minor": 2
}
