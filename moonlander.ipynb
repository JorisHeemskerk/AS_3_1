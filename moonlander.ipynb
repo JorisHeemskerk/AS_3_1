{
 "cells": [
  {
   "cell_type": "markdown",
   "metadata": {},
   "source": [
    "# AS 3.1 Moonlander assignement\n",
    "***By Joris Heemskerk & Bas de Blok***\n",
    "\n",
    "This notebook contains all the code required to train and run the moonlander algoritm"
   ]
  },
  {
   "cell_type": "markdown",
   "metadata": {},
   "source": [
    "## 1. Base assignment\n",
    "\n",
    "The base assignment is to implement an object-oriented Deep Q-learning Network in Python. This network will be trained on the Lunar Lander enviornment."
   ]
  },
  {
   "cell_type": "markdown",
   "metadata": {},
   "source": [
    "### 1.1. Imports"
   ]
  },
  {
   "cell_type": "code",
   "execution_count": 1,
   "metadata": {},
   "outputs": [],
   "source": [
    "from agent import Agent\n",
    "from policy import Policy\n",
    "from action import Action\n",
    "from state import State\n",
    "from memory import Memory\n",
    "from qNetwork import QNetwork\n",
    "\n",
    "import copy\n",
    "import torch\n",
    "import gymnasium as gym\n",
    "from torch import nn\n",
    "import datetime"
   ]
  },
  {
   "cell_type": "markdown",
   "metadata": {},
   "source": [
    "### 1.3. Defining the network"
   ]
  },
  {
   "cell_type": "code",
   "execution_count": 2,
   "metadata": {},
   "outputs": [
    {
     "name": "stdout",
     "output_type": "stream",
     "text": [
      "Using \u001b[32mcuda\u001b[0m device\n",
      "\n"
     ]
    }
   ],
   "source": [
    "policy = Policy(network=QNetwork(), epsilon=1, decay=.996)\n",
    "\n",
    "memory = Memory(max_size=30_000)\n",
    "\n",
    "agent = Agent(policy=policy, memory=memory)\n",
    "\n",
    "env = gym.make(\"LunarLander-v2\", render_mode=\"human\")\n",
    "agent.run(env)\n",
    "agent.policy.save(f\"saved_models/before_{datetime.datetime.now()}\")\n",
    "env.close()"
   ]
  },
  {
   "cell_type": "code",
   "execution_count": 3,
   "metadata": {},
   "outputs": [
    {
     "name": "stderr",
     "output_type": "stream",
     "text": [
      "iteration : 100%|██████████| 5000/5000 [35:40<00:00,  2.34it/s]\n"
     ]
    }
   ],
   "source": [
    "env = gym.make(\"LunarLander-v2\")\n",
    "agent.train(\n",
    "    environment=env,\n",
    "    n_iterations=5000,\n",
    "    gamma=0.99,\n",
    "    memory_batch_size=32,\n",
    "    batch_size=32,\n",
    "    steps_limit=200_000_000_000_000_000_000,\n",
    "    loss_fn=nn.MSELoss(),\n",
    "    optimizer=torch.optim.Adam,\n",
    "    n_episodes=1,\n",
    "    seed=42,\n",
    "    )\n",
    "agent.policy.save(f\"saved_models/after_{datetime.datetime.now()}\")\n",
    "env.close()"
   ]
  },
  {
   "cell_type": "code",
   "execution_count": 4,
   "metadata": {},
   "outputs": [
    {
     "name": "stdout",
     "output_type": "stream",
     "text": [
      "1.9801227728069924e-09\n"
     ]
    },
    {
     "data": {
      "image/png": "[encoded data removed]",
      "text/plain": [
       "<Figure size 640x480 with 1 Axes>"
      ]
     },
     "metadata": {},
     "output_type": "display_data"
    }
   ],
   "source": [
    "print(agent.policy.epsilon)\n",
    "agent.plot()"
   ]
  },
  {
   "cell_type": "code",
   "execution_count": 5,
   "metadata": {},
   "outputs": [
    {
     "name": "stdout",
     "output_type": "stream",
     "text": [
      "-15.842303375003368\n"
     ]
    }
   ],
   "source": [
    "env = gym.make(\"LunarLander-v2\", render_mode=\"human\")\n",
    "print(agent.run(env))\n",
    "env.close()"
   ]
  },
  {
   "cell_type": "markdown",
   "metadata": {},
   "source": [
    "# Overig:"
   ]
  },
  {
   "cell_type": "code",
   "execution_count": 6,
   "metadata": {},
   "outputs": [],
   "source": [
    "# class QNetwork(nn.Module):\n",
    "#     def __init__(self):\n",
    "#         super().__init__()\n",
    "#         self.linear_relu_stack = nn.Sequential(\n",
    "#             nn.Linear(8, 150),\n",
    "#             nn.ReLU(),\n",
    "#             nn.Linear(150, 120),\n",
    "#             nn.ReLU(),\n",
    "#             nn.Linear(120, 4),\n",
    "#         )\n",
    "#         self.device = (\n",
    "#             \"cuda\"if torch.cuda.is_available()\n",
    "#             else \n",
    "#                 \"mps\" if torch.backends.mps.is_available()\n",
    "#             else \n",
    "#                 \"cpu\"\n",
    "#         )\n",
    "#         self.to(self.device)\n",
    "#         print(f\"Using \\033[32m{self.device }\\033[0m device\\n\")\n",
    "\n",
    "#     def forward(self, x: torch.Tensor)-> torch.Tensor:\n",
    "#         x = x.to(self.device)\n",
    "#         print(f\"{x = }, {type(x) = }\")\n",
    "#         logits = self.linear_relu_stack(x)\n",
    "#         print(f\"{logits = }, {type(logits) = }\")\n",
    "#         return logits\n",
    "    \n",
    "#     def train_model(\n",
    "#         self, \n",
    "#         train_loader: torch.utils.data.DataLoader, \n",
    "#         loss_fn: nn.Module, \n",
    "#         optimizer: torch.optim, \n",
    "#         num_epochs: int\n",
    "#     ):\n",
    "#         for epoch in range(num_epochs):\n",
    "#             print(f\"-------------------------------\\nEpoch {epoch+1}\")\n",
    "#             for batch, (X, y) in tqdm(enumerate(train_loader), total=len(train_loader)):\n",
    "#                 X, y = X.to(self.device), y.to(self.device)\n",
    "                \n",
    "#                 # Compute prediction and loss\n",
    "#                 pred = self.forward(X)\n",
    "#                 print(\"done predicting. Now going to calculate loss\")\n",
    "#                 loss = loss_fn(pred, y)\n",
    "\n",
    "#                 print(\"done with loss, going for grad\")\n",
    "#                 # Backpropagation\n",
    "#                 optimizer.zero_grad()\n",
    "#                 print(\"done with zero grad, going for backwards\")\n",
    "#                 loss.backward()\n",
    "#                 print(\"done with backwards, going for step\")\n",
    "#                 optimizer.step()\n",
    "#                 print(\"done with step\")\n",
    "\n",
    "#                 if batch % 100 == 0:\n",
    "#                     loss, current = loss.item(), batch * len(X)\n",
    "#         print(\"Training done!\")"
   ]
  },
  {
   "cell_type": "code",
   "execution_count": 7,
   "metadata": {},
   "outputs": [],
   "source": [
    "# policy = Policy(network=QNetwork(), epsilon=6.090)\n",
    "# memory = Memory(max_size=3_000)\n",
    "\n",
    "# agent = Agent(policy=policy, memory=memory)\n",
    "\n",
    "# env = gym.make(\"LunarLander-v2\", render_mode=\"human\")\n",
    "# agent.run(env)\n",
    "# env.close()"
   ]
  },
  {
   "cell_type": "code",
   "execution_count": 8,
   "metadata": {},
   "outputs": [],
   "source": [
    "# env.close()"
   ]
  },
  {
   "cell_type": "code",
   "execution_count": 9,
   "metadata": {},
   "outputs": [],
   "source": [
    "# X_train = torch.randn(100000, 8)  # 1000 samples, 8 features each\n",
    "# y_train = torch.randint(0, 4, (100000,))\n",
    "\n",
    "# train_dataset = torch.utils.data.TensorDataset(X_train, y_train)\n",
    "# train_loader = torch.utils.data.DataLoader(train_dataset, batch_size=32, shuffle=True)\n",
    "\n",
    "# model = QNetwork()\n",
    "\n",
    "# criterion = nn.CrossEntropyLoss()\n",
    "# optimizer = torch.optim.Adam(model.parameters(), lr=0.001)\n",
    "\n",
    "# model.train_model(train_loader, criterion, optimizer, 1)"
   ]
  },
  {
   "cell_type": "code",
   "execution_count": 10,
   "metadata": {},
   "outputs": [],
   "source": [
    "# device = (\n",
    "#     \"cuda\"if torch.cuda.is_available()\n",
    "#     else \n",
    "#         \"mps\" if torch.backends.mps.is_available()\n",
    "#     else \n",
    "#         \"cpu\"\n",
    "# )\n",
    "# print(f\"Using \\033[32m{device}\\033[0m device\\n\")\n",
    "\n",
    "# model = QNetwork().to(device)\n",
    "# print(model)"
   ]
  },
  {
   "cell_type": "markdown",
   "metadata": {},
   "source": [
    "### 1.4. Defining the agent"
   ]
  },
  {
   "cell_type": "code",
   "execution_count": null,
   "metadata": {},
   "outputs": [],
   "source": []
  },
  {
   "cell_type": "markdown",
   "metadata": {},
   "source": [
    "### 1.5. Training the model"
   ]
  },
  {
   "cell_type": "code",
   "execution_count": null,
   "metadata": {},
   "outputs": [],
   "source": []
  },
  {
   "cell_type": "markdown",
   "metadata": {},
   "source": [
    "### 1.6. Testing the model"
   ]
  },
  {
   "cell_type": "code",
   "execution_count": 11,
   "metadata": {},
   "outputs": [],
   "source": [
    "# env = gym.make(\"LunarLander-v2\", render_mode=\"human\")\n",
    "# observation, info = env.reset(seed=42)\n",
    "# i = 0\n",
    "# while True:\n",
    "#    i += 1\n",
    "#    action = env.action_space.sample()  # this is where you would insert your policy\n",
    "#    # print(action)\n",
    "#    observation, reward, terminated, truncated, info = env.step(action)\n",
    "#    # print(f\"Step\\n\\t{observation = }\\n\\t{reward = }\\n\\t{terminated = }\\n\\t{truncated = }\\n\\t{info = }\")\n",
    "\n",
    "#    if terminated or truncated:\n",
    "#       break\n",
    "# print(i)\n",
    "# env.close()"
   ]
  },
  {
   "cell_type": "code",
   "execution_count": 2,
   "metadata": {},
   "outputs": [
    {
     "name": "stdout",
     "output_type": "stream",
     "text": [
      "Using \u001b[32mcuda\u001b[0m device\n",
      "\n"
     ]
    }
   ],
   "source": [
    "from agent import Agent\n",
    "from policy import Policy\n",
    "from action import Action\n",
    "from state import State\n",
    "from memory import Memory\n",
    "from qNetwork import QNetwork\n",
    "\n",
    "import copy\n",
    "import torch\n",
    "import gymnasium as gym\n",
    "from torch import nn\n",
    "import datetime\n",
    "\n",
    "policy = Policy(network=QNetwork(), epsilon=0.01, decay=.996)\n",
    "\n",
    "memory = Memory(max_size=30_000)\n",
    "\n",
    "agent = Agent(policy=policy, memory=memory)\n",
    "\n",
    "env = gym.make(\"LunarLander-v2\", render_mode=\"human\")\n",
    "agent.policy.load(f\"saved_models/after_2024-06-24 16:11:54.077137\")\n",
    "agent.run(env)\n",
    "env.close()\n"
   ]
  }
 ],
 "metadata": {
  "kernelspec": {
   "display_name": "moonlander",
   "language": "python",
   "name": "python3"
  },
  "language_info": {
   "codemirror_mode": {
    "name": "ipython",
    "version": 3
   },
   "file_extension": ".py",
   "mimetype": "text/x-python",
   "name": "python",
   "nbconvert_exporter": "python",
   "pygments_lexer": "ipython3",
   "version": "3.11.9"
  }
 },
 "nbformat": 4,
 "nbformat_minor": 2
}
